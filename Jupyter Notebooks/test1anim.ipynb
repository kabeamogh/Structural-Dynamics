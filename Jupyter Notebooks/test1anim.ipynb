{
 "cells": [
  {
   "cell_type": "code",
   "execution_count": 1,
   "id": "d49f4f58",
   "metadata": {},
   "outputs": [
    {
     "data": {
      "application/vnd.jupyter.widget-view+json": {
       "model_id": "76e17f122e364f128cb654c026ba5080",
       "version_major": 2,
       "version_minor": 0
      },
      "text/plain": [
       "Canvas(height=600)"
      ]
     },
     "metadata": {},
     "output_type": "display_data"
    }
   ],
   "source": [
    "import numpy as np\n",
    "import math\n",
    "import asyncio\n",
    "from ipycanvas import Canvas\n",
    "from src.utils.helper import ghetto_feder_daempfer_element_top, ghetto_feder_daempfer_element_bottom\n",
    "from src.utils.ext_utils import spring_module\n",
    "\n",
    "canvas = Canvas(width=700, height=600)\n",
    "display(canvas)\n",
    "\n",
    "\n",
    "t = np.linspace(0, 2 * np.pi, 200)\n",
    "y = np.sin(t)\n",
    "angles = np.linspace(0, 2 * np.pi, 200)\n",
    "\n",
    "async def animate():\n",
    "    for i in range(len(t)):\n",
    "        canvas.clear()\n",
    "\n",
    "        # Horizontal motion offset\n",
    "        x_offset = 240 + 20 * y[i]\n",
    "\n",
    "        # === Top Polygon (connection piece) ===\n",
    "        canvas.stroke_polygon([\n",
    "            (x_offset, 400),\n",
    "            (x_offset + 100, 400),\n",
    "            (x_offset + 75, 375),\n",
    "            (x_offset + 25, 375)\n",
    "        ])\n",
    "\n",
    "        # === Mass Block ===\n",
    "        canvas.fill_style = 'lightgrey'\n",
    "        canvas.fill_rect(x_offset, 400, 100, 100)\n",
    "        canvas.fill_style = 'black'\n",
    "        canvas.stroke_rect(x_offset, 400, 100, 100)\n",
    "\n",
    "\n",
    "\n",
    "        # === Rotating Circle ===\n",
    "        cx = x_offset + 50\n",
    "        cy = 345\n",
    "        canvas.fill_style = 'lightgrey'\n",
    "        canvas.fill_circle(cx, cy, 50)\n",
    "        canvas.stroke_style = 'black'\n",
    "        canvas.stroke_circle(cx, cy, 50)\n",
    "\n",
    "        # center dot\n",
    "        canvas.fill_style = 'white'\n",
    "        canvas.fill_circle(cx, cy, 5)\n",
    "        canvas.stroke_style = 'black'\n",
    "        canvas.stroke_circle(cx, cy, 5)\n",
    "\n",
    "        # rotating dot (STAYS INSIDE the circle)\n",
    "        angle = angles[i]\n",
    "        dot_x = cx + 45 * math.cos(angle)\n",
    "        dot_y = cy + 45 * math.sin(angle)\n",
    "        canvas.fill_style = 'black'\n",
    "        canvas.fill_circle(dot_x, dot_y, 8)\n",
    "\n",
    "\n",
    "        # === Spring ===\n",
    "        spring_start = (150, 435)\n",
    "        spring_end = (x_offset + 10, 435)\n",
    "        x_coords, y_coords = spring_module.spring(start=spring_start, end=spring_end, nodes=7, width=25)\n",
    "        spring_points = list(zip(x_coords, y_coords))\n",
    "        canvas.stroke_lines(spring_points)\n",
    "\n",
    "        # === Top & Bottom Dampers ===\n",
    "        ghetto_feder_daempfer_element_top(canvas, (120, 450), 30, 30, 30, 50, 30, \"left_to_right\")\n",
    "        ghetto_feder_daempfer_element_bottom(canvas, (x_offset + 40, 450), 30, 30, 50, 30, \"left_to_right\")\n",
    "\n",
    "        await asyncio.sleep(0.02)\n",
    "\n",
    "await animate()\n",
    "\n",
    "\n"
   ]
  }
 ],
 "metadata": {
  "kernelspec": {
   "display_name": ".venv",
   "language": "python",
   "name": "python3"
  },
  "language_info": {
   "codemirror_mode": {
    "name": "ipython",
    "version": 3
   },
   "file_extension": ".py",
   "mimetype": "text/x-python",
   "name": "python",
   "nbconvert_exporter": "python",
   "pygments_lexer": "ipython3",
   "version": "3.12.4"
  }
 },
 "nbformat": 4,
 "nbformat_minor": 5
}
