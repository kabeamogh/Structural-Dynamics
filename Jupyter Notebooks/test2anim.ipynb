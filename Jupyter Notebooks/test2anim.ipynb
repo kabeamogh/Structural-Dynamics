{
 "cells": [
  {
   "cell_type": "code",
   "execution_count": 10,
   "id": "cc118e73",
   "metadata": {},
   "outputs": [
    {
     "data": {
      "application/vnd.jupyter.widget-view+json": {
       "model_id": "1ecb321f4ff24c1fa26977438c01df90",
       "version_major": 2,
       "version_minor": 0
      },
      "text/plain": [
       "Canvas(height=600)"
      ]
     },
     "metadata": {},
     "output_type": "display_data"
    }
   ],
   "source": [
    "from ipycanvas import Canvas\n",
    "import numpy as np, math, asyncio\n",
    "from src.utils.ext_utils import spring_module\n",
    "\n",
    "# Unified canvas\n",
    "canvas = Canvas(width=700, height=600)\n",
    "display(canvas)\n",
    "\n",
    "# Time and displacement setup\n",
    "t = np.linspace(0, 2 * np.pi, 200)\n",
    "y = np.sin(t)\n",
    "angles = np.linspace(0, 2 * np.pi, 200)\n",
    "\n",
    "# Draw static parts (walls)\n",
    "canvas.stroke_line(150, 400, 150, 500)\n",
    "canvas.stroke_line(550, 400, 550, 500)\n",
    "\n",
    "# Animation function\n",
    "async def animate():\n",
    "    for i in range(len(t)):\n",
    "        canvas.clear()\n",
    "\n",
    "        # Redraw static parts (walls)\n",
    "        canvas.stroke_line(150, 400, 150, 500)\n",
    "        \n",
    "\n",
    "        # Motion offsets\n",
    "        x1 = 240 + 50 * y[i]\n",
    "        x2 = 430 + 100 * y[i]\n",
    "        angle = angles[i]\n",
    "\n",
    "        # Mass 1\n",
    "        canvas.fill_style = 'lightgrey'\n",
    "        mass1 = (x1, 400, 100, 100)\n",
    "        canvas.fill_rect(*mass1)\n",
    "        canvas.stroke_rect(*mass1)\n",
    "\n",
    "        polygon_points = [(x1, 400),(x1 + 100, 400),(x1 + 75, 375),(x1 + 25, 375)]\n",
    "        canvas.stroke_polygon(polygon_points)\n",
    "\n",
    "        # Rotating circle on top of Mass 1\n",
    "        cx, cy = x1 + 50, 345\n",
    "        canvas.fill_style = 'lightgrey'\n",
    "        canvas.fill_circle(cx, cy, 50)\n",
    "        canvas.stroke_circle(cx, cy, 50)\n",
    "        canvas.fill_style = 'white'\n",
    "        canvas.fill_circle(cx, cy, 5)\n",
    "        canvas.stroke_circle(cx, cy, 5)\n",
    "        canvas.fill_style = 'black'\n",
    "        canvas.fill_circle(cx + 42 * math.cos(angle), cy + 42 * math.sin(angle), 8)\n",
    "\n",
    "        # Mass 2\n",
    "        canvas.fill_style = 'lightgrey'\n",
    "        mass2 = (x2, 400, 100, 100)\n",
    "        canvas.fill_rect(*mass2)\n",
    "        canvas.stroke_rect(*mass2)\n",
    "\n",
    "        # Spring: wall → Mass 1 (left edge)\n",
    "        xs1, ys1 = spring_module.spring((150, 455), (x1, 455), nodes=7, width=25)\n",
    "        canvas.stroke_lines(list(zip(xs1, ys1)))\n",
    "\n",
    "        # Spring: Mass 1 (right edge) → Mass 2 (left edge)\n",
    "        xs2, ys2 = spring_module.spring((x1 + 100, 455), (x2, 455), nodes=7, width=25)\n",
    "        canvas.stroke_lines(list(zip(xs2, ys2)))\n",
    "\n",
    "        await asyncio.sleep(0.02)\n",
    "\n",
    "await animate()\n"
   ]
  }
 ],
 "metadata": {
  "kernelspec": {
   "display_name": ".venv",
   "language": "python",
   "name": "python3"
  },
  "language_info": {
   "codemirror_mode": {
    "name": "ipython",
    "version": 3
   },
   "file_extension": ".py",
   "mimetype": "text/x-python",
   "name": "python",
   "nbconvert_exporter": "python",
   "pygments_lexer": "ipython3",
   "version": "3.12.4"
  }
 },
 "nbformat": 4,
 "nbformat_minor": 5
}
