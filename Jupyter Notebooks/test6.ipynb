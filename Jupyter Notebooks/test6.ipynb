{
 "cells": [
  {
   "cell_type": "code",
   "execution_count": 1,
   "id": "31508f3a",
   "metadata": {},
   "outputs": [
    {
     "data": {
      "application/vnd.jupyter.widget-view+json": {
       "model_id": "16c3fc52d9634cf1a52e3449e1d6377b",
       "version_major": 2,
       "version_minor": 0
      },
      "text/plain": [
       "Canvas(height=600, sync_image_data=True, width=600)"
      ]
     },
     "metadata": {},
     "output_type": "display_data"
    }
   ],
   "source": [
    "from ipycanvas import Canvas\n",
    "from math import pi\n",
    "import numpy as np\n",
    "\n",
    "from src.utils.helper import ghetto_feder_daempfer_element_top\n",
    "from src.utils.helper import ghetto_feder_daempfer_element_bottom\n",
    "from src.utils.ext_utils import spring_module\n",
    "\n",
    "\n",
    "canvas = Canvas(width=600, height=600, sync_image_data=True)\n",
    "canvas.fill_style = 'white'\n",
    "canvas.clear()\n",
    "\n",
    "x_lines = np.linspace(250 + 175/21, 250 + 20*175/21, 20)\n",
    "\n",
    "#Aufgabe 6.1\n",
    "\n",
    "#Main Blocks\n",
    "\n",
    "canvas.fill_style = 'lightgrey'\n",
    "canvas.fill_rect(250, 140, 190, 10)\n",
    "canvas.fill_style = 'black'\n",
    "canvas.stroke_rect(250, 140, 190, 10)\n",
    "\n",
    "canvas.line_width = 2\n",
    "canvas.stroke_style = 'black'\n",
    "canvas.stroke_circle(440, 145, 15)\n",
    "canvas.line_width = 2\n",
    "canvas.fill_style = 'darkgrey'\n",
    "canvas.fill_circle(440, 145, 15)\n",
    "\n",
    "for x in x_lines:\n",
    "    canvas.stroke_line(float(x), 140, float(x), 150)\n",
    "\n",
    "canvas.fill_style = 'black'\n",
    "canvas.stroke_line(250, 135, 250, 160)\n",
    "canvas.stroke_line(250, 139, 240, 134) \n",
    "canvas.stroke_line(250, 145, 240, 140) \n",
    "canvas.stroke_line(250, 151, 240, 146) \n",
    "canvas.stroke_line(250, 157, 240, 152)\n",
    "\n",
    "\n",
    "canvas.stroke_line(260, 160, 290, 160)\n",
    "canvas.stroke_line(285, 155, 290, 160)\n",
    "canvas.stroke_line(285, 165, 290, 160)\n",
    "\n",
    "canvas.stroke_line(260, 160, 260, 190)\n",
    "canvas.stroke_line(255, 185, 260, 190)\n",
    "canvas.stroke_line(260, 190, 265, 185)\n",
    "\n",
    "canvas.stroke_line(370, 145, 400, 145)\n",
    "canvas.stroke_line(385, 145, 385, 180)\n",
    "canvas.stroke_line(380, 175, 385, 180)\n",
    "canvas.stroke_line(385, 180, 390, 175)\n",
    "\n",
    "canvas.stroke_line(320, 120, 340, 130)\n",
    "\n",
    "#Text\n",
    "canvas.font = \"22px serif\"\n",
    "canvas.fill_text(\"x\", 290, 178)\n",
    "\n",
    "canvas.font = \"22px serif\"\n",
    "canvas.fill_text(\"m\", 450, 125)\n",
    "\n",
    "canvas.font = \"22px serif\"\n",
    "canvas.fill_text(\"A\", 257, 130)\n",
    "\n",
    "canvas.font = \"22px serif\"\n",
    "canvas.fill_text(\"z\", 268, 195)\n",
    "\n",
    "canvas.font = \"22px serif\"\n",
    "canvas.fill_text(\"w(x,t)\", 360, 205)\n",
    "\n",
    "canvas.font = \"22px serif\"\n",
    "canvas.fill_text(\"l, EI, ρ,\", 290, 110)\n",
    "\n",
    "\n",
    "\n",
    "display(canvas)"
   ]
  }
 ],
 "metadata": {
  "kernelspec": {
   "display_name": ".venv",
   "language": "python",
   "name": "python3"
  },
  "language_info": {
   "codemirror_mode": {
    "name": "ipython",
    "version": 3
   },
   "file_extension": ".py",
   "mimetype": "text/x-python",
   "name": "python",
   "nbconvert_exporter": "python",
   "pygments_lexer": "ipython3",
   "version": "3.12.4"
  }
 },
 "nbformat": 4,
 "nbformat_minor": 5
}
