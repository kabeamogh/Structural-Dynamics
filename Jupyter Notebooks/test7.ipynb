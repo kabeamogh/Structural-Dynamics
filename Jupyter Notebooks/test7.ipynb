{
 "cells": [
  {
   "cell_type": "code",
   "execution_count": 1,
   "id": "8ac7da68",
   "metadata": {},
   "outputs": [
    {
     "data": {
      "application/vnd.jupyter.widget-view+json": {
       "model_id": "492078d5958548dcbb9e319205e961e5",
       "version_major": 2,
       "version_minor": 0
      },
      "text/plain": [
       "Canvas(height=600, sync_image_data=True, width=600)"
      ]
     },
     "metadata": {},
     "output_type": "display_data"
    }
   ],
   "source": [
    "from ipycanvas import Canvas\n",
    "from math import pi\n",
    "import numpy as np\n",
    "\n",
    "\n",
    "canvas = Canvas(width=600, height=600, sync_image_data=True)\n",
    "canvas.fill_style = 'white'\n",
    "canvas.clear()\n",
    "\n",
    "x_lines = np.linspace(250 + 190/21, 250 + 20*190/21, 20)\n",
    "\n",
    "#Aufgabe 6.1\n",
    "\n",
    "#Main Blocks\n",
    "\n",
    "canvas.fill_style = 'lightgrey'\n",
    "canvas.fill_rect(250, 140, 190, 10)\n",
    "canvas.fill_style = 'black'\n",
    "canvas.stroke_rect(250, 140, 190, 10)\n",
    "\n",
    "for x in x_lines:\n",
    "    canvas.stroke_line(float(x), 140, float(x), 150)\n",
    "\n",
    "\n",
    "canvas.line_width = 2\n",
    "canvas.fill_style = 'black'\n",
    "canvas.stroke_line(250, 135, 250, 160)\n",
    "canvas.line_width = 1\n",
    "canvas.stroke_line(250, 139, 240, 134) \n",
    "canvas.stroke_line(250, 145, 240, 140) \n",
    "canvas.stroke_line(250, 151, 240, 146) \n",
    "canvas.stroke_line(250, 157, 240, 152)\n",
    "canvas.stroke_line(250, 163, 240, 158) \n",
    "canvas.stroke_line(250, 169, 240, 164) \n",
    "canvas.stroke_line(250, 175, 240, 170) \n",
    "canvas.stroke_line(250, 181, 240, 176)\n",
    "\n",
    "\n",
    "canvas.line_width = 2\n",
    "canvas.stroke_style = 'black'\n",
    "canvas.stroke_line(250, 160, 250, 190)\n",
    "canvas.stroke_line(245, 185, 250, 190)\n",
    "canvas.stroke_line(250, 190, 255, 185)\n",
    "\n",
    "\n",
    "canvas.stroke_line(385, 145, 385, 180)\n",
    "canvas.stroke_line(380, 175, 385, 180)\n",
    "canvas.stroke_line(385, 180, 390, 175)\n",
    "\n",
    "canvas.stroke_line(250, 145, 460, 145)\n",
    "canvas.stroke_line(460, 145, 455, 140)\n",
    "canvas.stroke_line(460, 145, 455, 150)\n",
    "\n",
    "\n",
    "\n",
    "\n",
    "#Text\n",
    "\n",
    "\n",
    "canvas.font = \"22px serif\"\n",
    "canvas.fill_text(\"x\", 465, 145)\n",
    "\n",
    "canvas.font = \"22px serif\"\n",
    "canvas.fill_text(\"z\", 260, 195)\n",
    "\n",
    "canvas.font = \"22px serif\"\n",
    "canvas.fill_text(\"w(x,t)\", 325, 185)\n",
    "\n",
    "\n",
    "\n",
    "\n",
    "\n",
    "display(canvas)"
   ]
  }
 ],
 "metadata": {
  "kernelspec": {
   "display_name": ".venv",
   "language": "python",
   "name": "python3"
  },
  "language_info": {
   "codemirror_mode": {
    "name": "ipython",
    "version": 3
   },
   "file_extension": ".py",
   "mimetype": "text/x-python",
   "name": "python",
   "nbconvert_exporter": "python",
   "pygments_lexer": "ipython3",
   "version": "3.12.4"
  }
 },
 "nbformat": 4,
 "nbformat_minor": 5
}
